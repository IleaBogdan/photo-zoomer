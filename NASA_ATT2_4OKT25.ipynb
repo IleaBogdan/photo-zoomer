{
  "nbformat": 4,
  "nbformat_minor": 0,
  "metadata": {
    "colab": {
      "provenance": [],
      "gpuType": "T4"
    },
    "kernelspec": {
      "name": "python3",
      "display_name": "Python 3"
    },
    "language_info": {
      "name": "python"
    },
    "accelerator": "GPU"
  },
  "cells": [
    {
      "cell_type": "code",
      "source": [
        "!nvidia-smi\n"
      ],
      "metadata": {
        "colab": {
          "base_uri": "https://localhost:8080/"
        },
        "id": "1WdW2n-4wdUN",
        "outputId": "bc861944-c6df-4609-de2c-1ca6d76d9179"
      },
      "execution_count": 1,
      "outputs": [
        {
          "output_type": "stream",
          "name": "stdout",
          "text": [
            "Sat Oct  4 21:49:07 2025       \n",
            "+-----------------------------------------------------------------------------------------+\n",
            "| NVIDIA-SMI 550.54.15              Driver Version: 550.54.15      CUDA Version: 12.4     |\n",
            "|-----------------------------------------+------------------------+----------------------+\n",
            "| GPU  Name                 Persistence-M | Bus-Id          Disp.A | Volatile Uncorr. ECC |\n",
            "| Fan  Temp   Perf          Pwr:Usage/Cap |           Memory-Usage | GPU-Util  Compute M. |\n",
            "|                                         |                        |               MIG M. |\n",
            "|=========================================+========================+======================|\n",
            "|   0  Tesla T4                       Off |   00000000:00:04.0 Off |                    0 |\n",
            "| N/A   54C    P8             10W /   70W |       0MiB /  15360MiB |      0%      Default |\n",
            "|                                         |                        |                  N/A |\n",
            "+-----------------------------------------+------------------------+----------------------+\n",
            "                                                                                         \n",
            "+-----------------------------------------------------------------------------------------+\n",
            "| Processes:                                                                              |\n",
            "|  GPU   GI   CI        PID   Type   Process name                              GPU Memory |\n",
            "|        ID   ID                                                               Usage      |\n",
            "|=========================================================================================|\n",
            "|  No running processes found                                                             |\n",
            "+-----------------------------------------------------------------------------------------+\n"
          ]
        }
      ]
    },
    {
      "cell_type": "code",
      "execution_count": 2,
      "metadata": {
        "id": "UTmHMPyBqt78",
        "outputId": "bdda0551-d753-4a4a-e6dc-c2bb9458d454",
        "colab": {
          "base_uri": "https://localhost:8080/",
          "height": 211
        }
      },
      "outputs": [
        {
          "output_type": "error",
          "ename": "FileNotFoundError",
          "evalue": "[Errno 2] No such file or directory: '/content/drive/My Drive/NASA IMAGES ASSETS/'",
          "traceback": [
            "\u001b[0;31m---------------------------------------------------------------------------\u001b[0m",
            "\u001b[0;31mFileNotFoundError\u001b[0m                         Traceback (most recent call last)",
            "\u001b[0;32m/tmp/ipython-input-1906734441.py\u001b[0m in \u001b[0;36m<cell line: 0>\u001b[0;34m()\u001b[0m\n\u001b[1;32m     13\u001b[0m \u001b[0;32mfrom\u001b[0m \u001b[0mgoogle\u001b[0m\u001b[0;34m.\u001b[0m\u001b[0mcolab\u001b[0m \u001b[0;32mimport\u001b[0m \u001b[0mdrive\u001b[0m\u001b[0;34m\u001b[0m\u001b[0;34m\u001b[0m\u001b[0m\n\u001b[1;32m     14\u001b[0m \u001b[0;31m# drive.mount('/content/drive')\u001b[0m\u001b[0;34m\u001b[0m\u001b[0;34m\u001b[0m\u001b[0m\n\u001b[0;32m---> 15\u001b[0;31m \u001b[0mos\u001b[0m\u001b[0;34m.\u001b[0m\u001b[0mlistdir\u001b[0m\u001b[0;34m(\u001b[0m\u001b[0;34m'/content/drive/My Drive/NASA IMAGES ASSETS/'\u001b[0m\u001b[0;34m)\u001b[0m\u001b[0;34m\u001b[0m\u001b[0;34m\u001b[0m\u001b[0m\n\u001b[0m\u001b[1;32m     16\u001b[0m \u001b[0;34m\u001b[0m\u001b[0m\n\u001b[1;32m     17\u001b[0m \u001b[0mb_channel_hdul\u001b[0m \u001b[0;34m=\u001b[0m \u001b[0mfits\u001b[0m\u001b[0;34m.\u001b[0m\u001b[0mopen\u001b[0m\u001b[0;34m(\u001b[0m\u001b[0;34m'/content/drive/My Drive/NASA IMAGES ASSETS/h_m51_b_s05_drz_sci.fits'\u001b[0m\u001b[0;34m)\u001b[0m\u001b[0;34m\u001b[0m\u001b[0;34m\u001b[0m\u001b[0m\n",
            "\u001b[0;31mFileNotFoundError\u001b[0m: [Errno 2] No such file or directory: '/content/drive/My Drive/NASA IMAGES ASSETS/'"
          ]
        }
      ],
      "source": [
        "import os\n",
        "from astropy.io import fits\n",
        "from astropy.visualization import (ImageNormalize, MinMaxInterval, ZScaleInterval, LinearStretch)\n",
        "from astropy.visualization import make_lupton_rgb\n",
        "from PIL import Image\n",
        "from io import BytesIO\n",
        "import matplotlib.pyplot as plt\n",
        "from google.colab.patches import cv2_imshow\n",
        "import numpy as np\n",
        "import cv2\n",
        "import cupy as cp\n",
        "from skimage.color import rgb2hsv\n",
        "from google.colab import drive\n",
        "# drive.mount('/content/drive')\n",
        "os.listdir('/content/drive/My Drive/NASA IMAGES ASSETS/')\n",
        "\n",
        "b_channel_hdul = fits.open('/content/drive/My Drive/NASA IMAGES ASSETS/h_m51_b_s05_drz_sci.fits')\n",
        "h_channel_hdul = fits.open('/content/drive/My Drive/NASA IMAGES ASSETS/h_m51_h_s05_drz_sci.fits')\n",
        "v_channel_hdul = fits.open('/content/drive/My Drive/NASA IMAGES ASSETS/h_m51_v_s05_drz_sci.fits')"
      ]
    },
    {
      "cell_type": "code",
      "source": [
        "b_channel = b_channel_hdul[0].data\n",
        "h_channel = h_channel_hdul[0].data\n",
        "v_channel = v_channel_hdul[0].data"
      ],
      "metadata": {
        "id": "f_gFgSIDq0Go"
      },
      "execution_count": null,
      "outputs": []
    },
    {
      "cell_type": "code",
      "source": [
        "b_channel = np.array(b_channel)\n",
        "h_channel = np.array(h_channel)\n",
        "v_channel = np.array(v_channel)\n",
        "b_channel.max()"
      ],
      "metadata": {
        "id": "x9X_Kr9sq3hO"
      },
      "execution_count": null,
      "outputs": []
    },
    {
      "cell_type": "code",
      "source": [
        "b_ch_normalised = ImageNormalize(b_channel, interval=ZScaleInterval(), stretch=LinearStretch())\n",
        "h_ch_normalised = ImageNormalize(h_channel, interval=ZScaleInterval(), stretch=LinearStretch())\n",
        "v_ch_normalised = ImageNormalize(v_channel, interval=ZScaleInterval(), stretch=LinearStretch())\n",
        "\n",
        "b_norm_gpu = cp.array(b_ch_normalised(b_channel))\n",
        "h_norm_gpu = cp.array(h_ch_normalised(h_channel))\n",
        "v_norm_gpu = cp.array(v_ch_normalised(v_channel))\n",
        "\n",
        "rgb_image = cp.stack([b_norm_gpu, h_norm_gpu, v_norm_gpu], axis=-1)\n",
        "intensity_image = cp.average(rgb_image, axis=-1)\n",
        "rgb_image = np.transpose(rgb_image, axes=(1, 0, 2))\n",
        "# hsv_image = rgb2hsv(rgb_image)"
      ],
      "metadata": {
        "id": "AD97Vuegq4iu"
      },
      "execution_count": null,
      "outputs": []
    },
    {
      "cell_type": "code",
      "source": [
        "# plt.imshow(rgb_image.get())\n",
        "# plt.axis('off')\n",
        "# plt.show()"
      ],
      "metadata": {
        "id": "Ox5Kxzh4q6Of"
      },
      "execution_count": null,
      "outputs": []
    },
    {
      "cell_type": "code",
      "source": [
        "def select_zone(np_image: np.array, x: int, y: int, zoom_level: int, w_resolution: int = 1920, h_resolution: int = 1080):\n",
        "    h_img, w_img = np_image.shape[:2]\n",
        "    h_ct = h_img / h_resolution\n",
        "    w_ct = w_img / w_resolution\n",
        "\n",
        "    section_height = int(h_img // zoom_level)\n",
        "    section_width = int(w_img // zoom_level)\n",
        "\n",
        "    if section_height <= 0 or section_width <= 0:\n",
        "        return None\n",
        "\n",
        "    y_end = min(y + section_height, h_img)\n",
        "    x_end = min(x + section_width, w_img)\n",
        "\n",
        "    if y_end > y and x_end > x:\n",
        "        sectioned_array = np_image[y:y_end, x:x_end, :]\n",
        "    else:\n",
        "        return None\n",
        "\n",
        "    return sectioned_array, w_resolution, h_resolution"
      ],
      "metadata": {
        "id": "igjtK_mJq67P"
      },
      "execution_count": null,
      "outputs": []
    },
    {
      "cell_type": "code",
      "source": [
        "def compress_zone(np_image_section: np.array, w_resolution: int, h_resolution: int, quality: int = 95):\n",
        "    if np_image_section is None or np_image_section.size == 0:\n",
        "        return b''\n",
        "\n",
        "    if np.issubdtype(np_image_section.dtype, np.floating):\n",
        "        np_image_section = np.clip(np_image_section, 0, 1) * 255.0\n",
        "        np_image_section = np_image_section.astype(np.uint8)\n",
        "\n",
        "    if np_image_section.shape[:2] == (1, 1):\n",
        "        pass\n",
        "\n",
        "    try:\n",
        "        jpg_img = Image.fromarray(np_image_section)\n",
        "        jpg_img = jpg_img.resize((w_resolution, h_resolution))\n",
        "        buf = BytesIO()\n",
        "        jpg_img.save(buf, format=\"JPEG\", quality=quality)\n",
        "        return buf.getvalue()\n",
        "    except Exception as e:\n",
        "        print(f\"Compression failed: {e}\")\n",
        "        return b''"
      ],
      "metadata": {
        "id": "wM5pEt9Cq7vy"
      },
      "execution_count": null,
      "outputs": []
    },
    {
      "cell_type": "code",
      "source": [
        "def get_zone_image(np_image: np.array, x: int, y: int, zoom_level: int, w_resolution: int = 1920, h_resolution: int = 1080):\n",
        "  selected = select_zone(np_image=np_image,\n",
        "                            x=x,\n",
        "                            y=y,\n",
        "                            zoom_level=zoom_level,\n",
        "                            w_resolution=w_resolution,\n",
        "                            h_resolution=h_resolution)\n",
        "  if selected is None:\n",
        "      return b''\n",
        "  sectioned_array, wr, hr = selected\n",
        "  return compress_zone(sectioned_array, wr, hr)"
      ],
      "metadata": {
        "id": "hYMkSQ51q8bX"
      },
      "execution_count": null,
      "outputs": []
    },
    {
      "cell_type": "code",
      "source": [
        "def save_compression_levels(np_image: np.array, filename: str, exit_w_dim: int = 1920, exit_h_dim: int = 1080):\n",
        "    w_img = np_image.shape[1]\n",
        "    h_img = np_image.shape[0]\n",
        "\n",
        "    max_zoom = int(max(w_img / exit_w_dim, h_img / exit_h_dim)) + 1\n",
        "    for zoom_level in range(1, max_zoom+1):\n",
        "        x = 0\n",
        "        x_c = 0\n",
        "        step_x = max(1, w_img / zoom_level)\n",
        "        step_y = max(1, h_img / zoom_level)\n",
        "\n",
        "        while x < w_img:\n",
        "            y = 0\n",
        "            y_c = 0\n",
        "            x = int(step_x * x_c)\n",
        "            while y < h_img:\n",
        "                y = int(step_y * y_c)\n",
        "                zone_data = get_zone_image(np_image=np_image, x=x, y=y, w_resolution=exit_w_dim, h_resolution=exit_h_dim, zoom_level=zoom_level)\n",
        "                if zone_data:\n",
        "                  output_filename = f'{filename}_compression_level_{zoom_level}_x_{x}_y_{y}.jpg'\n",
        "                  with open(output_filename, 'wb') as f:\n",
        "                      f.write(get_zone_image(np_image=np_image, x=x, y=y, w_resolution=exit_w_dim, h_resolution=exit_h_dim, zoom_level = zoom_level))\n",
        "                  print(f\"Saved: {output_filename}, also y_step {step_y}, also x_step {step_x}\")\n",
        "                y_c += 1\n",
        "            x_c += 1\n",
        "\n",
        "    # if max_zoom % 2 == 0:\n",
        "        # x = 0\n",
        "        # x_c = 0\n",
        "        # step_x = max(1, exit_w_dim / max_zoom)\n",
        "        # step_y = max(1, exit_h_dim / max_zoom)\n",
        "#\n",
        "        # while x + step_x <= w_img:\n",
        "            # y = 0\n",
        "            # y_c = 0\n",
        "            # x = int(step_x * x_c)\n",
        "            # while y + step_y <= h_img:\n",
        "                # y = int(step_y * y_c)\n",
        "                # zone_data = get_zone_image(np_image=np_image, x=x, y=y, w_resolution=exit_w_dim, h_resolution=exit_h_dim, zoom_level=max_zoom)\n",
        "                # if zone_data:\n",
        "                  # output_filename = f'{filename}_compression_level_{max_zoom}_x_{x}_y_{y}.jpg'\n",
        "                  # with open(output_filename, 'wb') as f:\n",
        "                      # f.write(zone_data)\n",
        "                  # print(f\"Saved: {output_filename}, also y_step {step_y}, also x_step {step_x}\")\n",
        "                # y_c += 1\n",
        "            # x_c += 1"
      ],
      "metadata": {
        "id": "7Fhl1R2Lq9QT"
      },
      "execution_count": null,
      "outputs": []
    },
    {
      "cell_type": "code",
      "source": [
        "np_rgb_image = rgb_image.get()\n",
        "save_compression_levels(np_rgb_image, \"test\")\n",
        "# save width and height to a file"
      ],
      "metadata": {
        "collapsed": true,
        "id": "WEMK-wrrq95a"
      },
      "execution_count": null,
      "outputs": []
    },
    {
      "cell_type": "code",
      "source": [
        "def get_preprocessed_image(x: int, y: int, zoom: int):\n",
        "  img = Image.open(f'test_compression_level_{zoom}_x_{int(x)}_y_{int(y)}.jpg')\n",
        "  print(img)\n",
        "  return img\n",
        "\n",
        "def get_stitched_image(x: int, y: int, zoom_level: float, w_resolution: int, h_resolution: int, w_img: int, h_img: int):\n",
        "  w_unit = (w_img / zoom_level)\n",
        "  h_unit = (h_img / zoom_level)\n",
        "\n",
        "  x_tl = (x // w_unit) * w_unit # multiplu de w_resolution, divizor de w_img, divided by zoom_level\n",
        "  y_tl = (y // h_unit) * h_unit # multiplu de w_resolution, divizor de w_img, divided by zoom_level\n",
        "\n",
        "  x_tr = x_tl + w_unit\n",
        "  y_tr = y_tl\n",
        "\n",
        "  x_bl = x_tl\n",
        "  y_bl = y_tl + h_unit\n",
        "\n",
        "  x_br = x_tl + w_unit\n",
        "  y_br = y_tl + h_unit\n",
        "\n",
        "  img_tl = get_preprocessed_image(x_tl, y_tl, zoom_level)\n",
        "  img_tr = get_preprocessed_image(x_tr, y_tr, zoom_level)\n",
        "  img_bl = get_preprocessed_image(x_bl, y_bl, zoom_level)\n",
        "  img_br = get_preprocessed_image(x_br, y_br, zoom_level)\n",
        "\n",
        "  stitched_img = Image.new(\"RGB\", (int(w_unit) * 2, int(h_unit) * 2))\n",
        "\n",
        "  stitched_img.paste(img_tl, (0, 0))\n",
        "  stitched_img.paste(img_tr, (w_resolution, 0))\n",
        "  stitched_img.paste(img_bl, (0, h_resolution))\n",
        "  stitched_img.paste(img_br, (w_resolution, h_resolution))\n",
        "\n",
        "  x_offset = x-x_tl\n",
        "  y_offset = y-y_tl\n",
        "\n",
        "  cropped_img = stitched_img.crop((x_offset, y_offset, x_offset + w_unit, y_offset + h_unit))\n",
        "  cropped_img = cropped_img.resize((1920, 1080))\n",
        "\n",
        "  return cropped_img\n",
        "\n",
        "get_stitched_image(x=400, y=50, zoom_level=3, w_resolution=1920, h_resolution=1080, w_img=np_rgb_image.shape[1], h_img=np_rgb_image.shape[0])"
      ],
      "metadata": {
        "id": "M-rbZjFp4cX8"
      },
      "execution_count": null,
      "outputs": []
    },
    {
      "cell_type": "code",
      "source": [
        "# def save_compression_levels(np_image: np.array, filename: str, exit_w_dim: int = 1920, exit_h_dim: int = 1080):\n",
        "#     if np_image.ndim < 3 or np_image.shape[2] != 3:\n",
        "#         raise ValueError(\"Input must be a 3-channel RGB image array\")\n",
        "\n",
        "#     h_img, w_img = np_image.shape[:2]\n",
        "#     max_zoom = int(max(w_img / exit_w_dim, h_img / exit_h_dim)) + 1\n",
        "\n",
        "#     for zoom_level in range(1, max_zoom + 1):\n",
        "#         step_x = max(1, exit_w_dim // zoom_level)\n",
        "#         step_y = max(1, exit_h_dim // zoom_level)\n",
        "\n",
        "#         x = 0\n",
        "#         while x < w_img:\n",
        "#             y = 0\n",
        "#             while y < h_img:\n",
        "#                 zone_data = get_zone_image(np_image=np_image, x=x, y=y, w_resolution=exit_w_dim, h_resolution=exit_h_dim, zoom_level=zoom_level)\n",
        "#                 if zone_data:\n",
        "#                     output_filename = f'{filename}_zoom_{zoom_level}_x_{x}_y_{y}.jpg'\n",
        "#                     with open(output_filename, 'wb') as f:\n",
        "#                         f.write(zone_data)\n",
        "#                     print(f\"Saved: {output_filename}\")\n",
        "#                 y += step_y\n",
        "#             x += step_x"
      ],
      "metadata": {
        "id": "pbz8veML5_c7"
      },
      "execution_count": null,
      "outputs": []
    },
    {
      "cell_type": "code",
      "source": [],
      "metadata": {
        "id": "eXClO6jw82Io"
      },
      "execution_count": null,
      "outputs": []
    }
  ]
}